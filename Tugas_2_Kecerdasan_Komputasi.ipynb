{
  "nbformat": 4,
  "nbformat_minor": 0,
  "metadata": {
    "colab": {
      "name": "Tugas 2 Kecerdasan Komputasi.ipynb",
      "provenance": [],
      "collapsed_sections": [
        "oNVN6qqVAWs5",
        "1BrOez43IKqf",
        "k9RGn5q9XTZV",
        "hpTXZMrWwnBF",
        "E49Z_1U8WCbB",
        "iwy7dfx1zqxm",
        "07kJFcf3zqxn",
        "VEwdKzUyzqxn",
        "rVDJ43j3RZ7D",
        "90erFZm_WErl",
        "kzQ5_G_UXbqM",
        "cO_YmRAKkFqe",
        "wwLbfERnkPv7",
        "MGrLXLFERo70",
        "idGwBusWWG96",
        "B2D4iUSoXh5T",
        "nEHZpAAkkwcE",
        "CuookhIkkwcG",
        "AwHtq9dOSdOo"
      ],
      "authorship_tag": "ABX9TyMPclgmVEg0kZOqgUn2FkAk",
      "include_colab_link": true
    },
    "kernelspec": {
      "name": "python3",
      "display_name": "Python 3"
    },
    "accelerator": "GPU"
  },
  "cells": [
    {
      "cell_type": "markdown",
      "metadata": {
        "id": "view-in-github",
        "colab_type": "text"
      },
      "source": [
        "<a href=\"https://colab.research.google.com/github/baguspurnama98/lmknn-python/blob/main/Tugas_2_Kecerdasan_Komputasi.ipynb\" target=\"_parent\"><img src=\"https://colab.research.google.com/assets/colab-badge.svg\" alt=\"Open In Colab\"/></a>"
      ]
    },
    {
      "cell_type": "code",
      "metadata": {
        "colab": {
          "base_uri": "https://localhost:8080/"
        },
        "id": "qR6sOEYyWj6L",
        "outputId": "cad504ef-9fe5-40e4-aa01-4cb7d26bcd20"
      },
      "source": [
        "from google.colab import drive\n",
        "drive.mount('/content/drive')"
      ],
      "execution_count": null,
      "outputs": [
        {
          "output_type": "stream",
          "text": [
            "Mounted at /content/drive\n"
          ],
          "name": "stdout"
        }
      ]
    },
    {
      "cell_type": "code",
      "metadata": {
        "id": "sXFUsifCwtct"
      },
      "source": [
        "from sklearn.preprocessing import MinMaxScaler\n",
        "import pandas as pd"
      ],
      "execution_count": null,
      "outputs": []
    },
    {
      "cell_type": "markdown",
      "metadata": {
        "id": "oNVN6qqVAWs5"
      },
      "source": [
        "#KNN"
      ]
    },
    {
      "cell_type": "code",
      "metadata": {
        "id": "A7KVgXp8Rb4D"
      },
      "source": [
        "import scipy.spatial\n",
        "from collections import Counter\n",
        "\n",
        "class KNN:\n",
        "    def __init__(self, k):\n",
        "        self.k = k\n",
        "        \n",
        "    def fit(self, X, y):\n",
        "        self.X_train = X\n",
        "        self.y_train = y\n",
        "\n",
        "    def distance(self, X1, X2):\n",
        "        return scipy.spatial.distance.euclidean(X1, X2)\n",
        "    \n",
        "    def predict(self, X_test):\n",
        "        final_output = []\n",
        "        for i in range(len(X_test)):\n",
        "            d = []\n",
        "            votes = []\n",
        "            for j in range(len(X_train)):\n",
        "                dist = scipy.spatial.distance.euclidean(X_train[j] , X_test[i])\n",
        "                d.append([dist, j])\n",
        "            d.sort()\n",
        "            \n",
        "            d = d[0:self.k]\n",
        "            for d, j in d:\n",
        "                votes.append(self.y_train[j])\n",
        "            ans = Counter(votes).most_common(1)[0][0]\n",
        "            final_output.append(ans)\n",
        "            \n",
        "        return final_output\n",
        "    \n",
        "    def score(self, X_test, y_test):\n",
        "      predictions = self.predict(X_test)\n",
        "      value = 0\n",
        "      for i in range(len(y_test)):\n",
        "        if(predictions[i] == y_test[i]):\n",
        "          value += 1\n",
        "      return value / len(y_test)"
      ],
      "execution_count": null,
      "outputs": []
    },
    {
      "cell_type": "markdown",
      "metadata": {
        "id": "1BrOez43IKqf"
      },
      "source": [
        "#LMKNN"
      ]
    },
    {
      "cell_type": "code",
      "metadata": {
        "id": "Au8zINB6cL2c"
      },
      "source": [
        "import scipy.spatial\n",
        "import numpy as np\n",
        "from operator import itemgetter\n",
        "\n",
        "from collections import Counter\n",
        "class LMKNN:\n",
        "    def __init__(self, k):\n",
        "        self.k = k\n",
        "\n",
        "    def fit(self, X, y):\n",
        "        self.X_train = X\n",
        "        self.y_train = y\n",
        "        \n",
        "    def distance(self, X1, X2):\n",
        "      return scipy.spatial.distance.euclidean(X1, X2)\n",
        "    \n",
        "    def predict(self, X_test):\n",
        "        final_output = []\n",
        "        myclass = list(set(self.y_train))\n",
        "        for i in range(len(X_test)):\n",
        "            eucDist = []\n",
        "            votes = []\n",
        "            for j in range(len(X_train)):\n",
        "                dist = scipy.spatial.distance.euclidean(X_train[j] , X_test[i])\n",
        "                eucDist.append([dist, j, self.y_train[j]])\n",
        "            eucDist.sort()\n",
        "            \n",
        "            minimum_dist_per_class = []\n",
        "            for c in myclass:\n",
        "              minimum_class = []\n",
        "              for di in range(len(eucDist)):\n",
        "                if(len(minimum_class) != self.k):\n",
        "                  if(eucDist[di][2] == c):\n",
        "                    minimum_class.append(eucDist[di])\n",
        "                else:\n",
        "                  break\n",
        "              minimum_dist_per_class.append(minimum_class)\n",
        "           \n",
        "            indexData = []\n",
        "            for a in range(len(minimum_dist_per_class)):\n",
        "              temp_index = []\n",
        "              for j in range(len(minimum_dist_per_class[a])):\n",
        "                temp_index.append(minimum_dist_per_class[a][j][1])\n",
        "              indexData.append(temp_index)\n",
        "\n",
        "            centroid = []\n",
        "            for a in range(len(indexData)):\n",
        "              transposeData = X_train[indexData[a]].T\n",
        "              tempCentroid = []\n",
        "              for j in range(len(transposeData)):\n",
        "                tempCentroid.append(np.mean(transposeData[j]))\n",
        "              centroid.append(tempCentroid)\n",
        "            centroid = np.array(centroid)\n",
        "           \n",
        "            eucDist_final = []\n",
        "            for b in range(len(centroid)):\n",
        "              dist = scipy.spatial.distance.euclidean(centroid[b] , X_test[i])\n",
        "              eucDist_final.append([dist, myclass[b]])\n",
        "            sorted_eucDist_final = sorted(eucDist_final, key=itemgetter(0))\n",
        "            final_output.append(sorted_eucDist_final[0][1])\n",
        "        return final_output\n",
        "    \n",
        "    def score(self, X_test, y_test):\n",
        "        predictions = self.predict(X_test)\n",
        "        value = 0\n",
        "        for i in range(len(y_test)):\n",
        "          if(predictions[i] == y_test[i]):\n",
        "            value += 1\n",
        "        return value / len(y_test)"
      ],
      "execution_count": null,
      "outputs": []
    },
    {
      "cell_type": "markdown",
      "metadata": {
        "id": "B19_uOpMAA6k"
      },
      "source": [
        "#Klasifikasi\n",
        "\n"
      ]
    },
    {
      "cell_type": "markdown",
      "metadata": {
        "id": "t8Kvtp7RV-wU"
      },
      "source": [
        "#Heart Failure"
      ]
    },
    {
      "cell_type": "code",
      "metadata": {
        "id": "0ABSHZVF7iF_",
        "colab": {
          "base_uri": "https://localhost:8080/",
          "height": 217
        },
        "outputId": "425ba735-5604-49c9-880d-fdf5be1a1832"
      },
      "source": [
        "train_path = r'drive/My Drive/Colab Notebooks/Dataset/heart_failure_clinical_records_dataset.csv'\n",
        "data_train = pd.read_csv(train_path)\n",
        "data_train.head()"
      ],
      "execution_count": null,
      "outputs": [
        {
          "output_type": "execute_result",
          "data": {
            "text/html": [
              "<div>\n",
              "<style scoped>\n",
              "    .dataframe tbody tr th:only-of-type {\n",
              "        vertical-align: middle;\n",
              "    }\n",
              "\n",
              "    .dataframe tbody tr th {\n",
              "        vertical-align: top;\n",
              "    }\n",
              "\n",
              "    .dataframe thead th {\n",
              "        text-align: right;\n",
              "    }\n",
              "</style>\n",
              "<table border=\"1\" class=\"dataframe\">\n",
              "  <thead>\n",
              "    <tr style=\"text-align: right;\">\n",
              "      <th></th>\n",
              "      <th>age</th>\n",
              "      <th>anaemia</th>\n",
              "      <th>creatinine_phosphokinase</th>\n",
              "      <th>diabetes</th>\n",
              "      <th>ejection_fraction</th>\n",
              "      <th>high_blood_pressure</th>\n",
              "      <th>platelets</th>\n",
              "      <th>serum_creatinine</th>\n",
              "      <th>serum_sodium</th>\n",
              "      <th>sex</th>\n",
              "      <th>smoking</th>\n",
              "      <th>time</th>\n",
              "      <th>DEATH_EVENT</th>\n",
              "    </tr>\n",
              "  </thead>\n",
              "  <tbody>\n",
              "    <tr>\n",
              "      <th>0</th>\n",
              "      <td>75.0</td>\n",
              "      <td>0</td>\n",
              "      <td>582</td>\n",
              "      <td>0</td>\n",
              "      <td>20</td>\n",
              "      <td>1</td>\n",
              "      <td>265000.00</td>\n",
              "      <td>1.9</td>\n",
              "      <td>130</td>\n",
              "      <td>1</td>\n",
              "      <td>0</td>\n",
              "      <td>4</td>\n",
              "      <td>1</td>\n",
              "    </tr>\n",
              "    <tr>\n",
              "      <th>1</th>\n",
              "      <td>55.0</td>\n",
              "      <td>0</td>\n",
              "      <td>7861</td>\n",
              "      <td>0</td>\n",
              "      <td>38</td>\n",
              "      <td>0</td>\n",
              "      <td>263358.03</td>\n",
              "      <td>1.1</td>\n",
              "      <td>136</td>\n",
              "      <td>1</td>\n",
              "      <td>0</td>\n",
              "      <td>6</td>\n",
              "      <td>1</td>\n",
              "    </tr>\n",
              "    <tr>\n",
              "      <th>2</th>\n",
              "      <td>65.0</td>\n",
              "      <td>0</td>\n",
              "      <td>146</td>\n",
              "      <td>0</td>\n",
              "      <td>20</td>\n",
              "      <td>0</td>\n",
              "      <td>162000.00</td>\n",
              "      <td>1.3</td>\n",
              "      <td>129</td>\n",
              "      <td>1</td>\n",
              "      <td>1</td>\n",
              "      <td>7</td>\n",
              "      <td>1</td>\n",
              "    </tr>\n",
              "    <tr>\n",
              "      <th>3</th>\n",
              "      <td>50.0</td>\n",
              "      <td>1</td>\n",
              "      <td>111</td>\n",
              "      <td>0</td>\n",
              "      <td>20</td>\n",
              "      <td>0</td>\n",
              "      <td>210000.00</td>\n",
              "      <td>1.9</td>\n",
              "      <td>137</td>\n",
              "      <td>1</td>\n",
              "      <td>0</td>\n",
              "      <td>7</td>\n",
              "      <td>1</td>\n",
              "    </tr>\n",
              "    <tr>\n",
              "      <th>4</th>\n",
              "      <td>65.0</td>\n",
              "      <td>1</td>\n",
              "      <td>160</td>\n",
              "      <td>1</td>\n",
              "      <td>20</td>\n",
              "      <td>0</td>\n",
              "      <td>327000.00</td>\n",
              "      <td>2.7</td>\n",
              "      <td>116</td>\n",
              "      <td>0</td>\n",
              "      <td>0</td>\n",
              "      <td>8</td>\n",
              "      <td>1</td>\n",
              "    </tr>\n",
              "  </tbody>\n",
              "</table>\n",
              "</div>"
            ],
            "text/plain": [
              "    age  anaemia  creatinine_phosphokinase  ...  smoking  time  DEATH_EVENT\n",
              "0  75.0        0                       582  ...        0     4            1\n",
              "1  55.0        0                      7861  ...        0     6            1\n",
              "2  65.0        0                       146  ...        1     7            1\n",
              "3  50.0        1                       111  ...        0     7            1\n",
              "4  65.0        1                       160  ...        0     8            1\n",
              "\n",
              "[5 rows x 13 columns]"
            ]
          },
          "metadata": {
            "tags": []
          },
          "execution_count": 125
        }
      ]
    },
    {
      "cell_type": "markdown",
      "metadata": {
        "id": "k9RGn5q9XTZV"
      },
      "source": [
        "##Check Missing Value"
      ]
    },
    {
      "cell_type": "code",
      "metadata": {
        "colab": {
          "base_uri": "https://localhost:8080/"
        },
        "id": "2TmXPSZHXV8i",
        "outputId": "e37aad88-4374-46f4-ef91-4396c74b9c27"
      },
      "source": [
        "for col in data_train.columns:\n",
        "    print(col, str(round(100* data_train[col].isnull().sum() / len(data_train), 2)) + '%')"
      ],
      "execution_count": null,
      "outputs": [
        {
          "output_type": "stream",
          "text": [
            "age 0.0%\n",
            "anaemia 0.0%\n",
            "creatinine_phosphokinase 0.0%\n",
            "diabetes 0.0%\n",
            "ejection_fraction 0.0%\n",
            "high_blood_pressure 0.0%\n",
            "platelets 0.0%\n",
            "serum_creatinine 0.0%\n",
            "serum_sodium 0.0%\n",
            "sex 0.0%\n",
            "smoking 0.0%\n",
            "time 0.0%\n",
            "DEATH_EVENT 0.0%\n"
          ],
          "name": "stdout"
        }
      ]
    },
    {
      "cell_type": "markdown",
      "metadata": {
        "id": "hpTXZMrWwnBF"
      },
      "source": [
        "##Preprocessing"
      ]
    },
    {
      "cell_type": "code",
      "metadata": {
        "colab": {
          "base_uri": "https://localhost:8080/"
        },
        "id": "xpgFhP-qxB7r",
        "outputId": "ca2da35a-9852-48ea-a137-5d2bee0604f8"
      },
      "source": [
        "data_train.drop('time',axis=1, inplace=True)\n",
        "print(data_train.columns.tolist())"
      ],
      "execution_count": null,
      "outputs": [
        {
          "output_type": "stream",
          "text": [
            "['age', 'anaemia', 'creatinine_phosphokinase', 'diabetes', 'ejection_fraction', 'high_blood_pressure', 'platelets', 'serum_creatinine', 'serum_sodium', 'sex', 'smoking', 'DEATH_EVENT']\n"
          ],
          "name": "stdout"
        }
      ]
    },
    {
      "cell_type": "code",
      "metadata": {
        "id": "8X1_lLGjxEcb"
      },
      "source": [
        "label_train = data_train['DEATH_EVENT'].to_numpy()\n",
        "fitur_train = data_train[[ 'anaemia', 'creatinine_phosphokinase', 'diabetes', 'ejection_fraction', 'high_blood_pressure', 'platelets', 'serum_creatinine', 'serum_sodium']].to_numpy()"
      ],
      "execution_count": null,
      "outputs": []
    },
    {
      "cell_type": "code",
      "metadata": {
        "colab": {
          "base_uri": "https://localhost:8080/"
        },
        "id": "0kwc_q9ZwqhH",
        "outputId": "397f1e68-604f-4fbb-8a3b-17f867b489c0"
      },
      "source": [
        "scaler = MinMaxScaler(feature_range=(0, 1))\n",
        "scaler.fit(fitur_train)\n",
        "fitur_train_normalize = scaler.transform(fitur_train)\n",
        "print(fitur_train_normalize[0])"
      ],
      "execution_count": null,
      "outputs": [
        {
          "output_type": "stream",
          "text": [
            "[0.         0.07131921 0.         0.09090909 1.         0.29082313\n",
            " 0.15730337 0.48571429]\n"
          ],
          "name": "stdout"
        }
      ]
    },
    {
      "cell_type": "code",
      "metadata": {
        "id": "x4BwuGfew00l"
      },
      "source": [
        "# X_train, X_test, y_train, y_test = train_test_split(fitur_train, label_train, random_state=42, stratify=label_train, test_size=0.2  )"
      ],
      "execution_count": null,
      "outputs": []
    },
    {
      "cell_type": "markdown",
      "metadata": {
        "id": "8XlnQ2fgYfAv"
      },
      "source": [
        "##Klasifikasi with k = 3"
      ]
    },
    {
      "cell_type": "code",
      "metadata": {
        "colab": {
          "base_uri": "https://localhost:8080/"
        },
        "id": "dtLUtDCRFu43",
        "outputId": "e2012aa5-ea0e-4364-8d7d-869abb4098ff"
      },
      "source": [
        "from sklearn.model_selection import StratifiedKFold\n",
        "kf = StratifiedKFold(n_splits=10, random_state=None, shuffle=True) \n",
        "kf.get_n_splits(fitur_train_normalize)\n",
        "\n",
        "acc_LMKNN_heart = [] \n",
        "acc_KNN_heart = [] \n",
        "for train_index, test_index in kf.split(fitur_train_normalize,label_train):\n",
        "  knn = KNN(3)\n",
        "  lmknn = LMKNN(3)\n",
        "  X_train, X_test = fitur_train_normalize[train_index], fitur_train_normalize[test_index]\n",
        "  y_train, y_test = label_train[train_index], label_train[test_index]\n",
        "\n",
        "  knn.fit(X_train,y_train)\n",
        "  prediction = knn.score(X_test, y_test)\n",
        "  acc_KNN_heart.append(prediction)\n",
        "\n",
        "  lmknn.fit(X_train, y_train) \n",
        "  result = lmknn.score(X_test, y_test)\n",
        "  acc_LMKNN_heart.append(result)\n",
        "print(np.mean(acc_KNN_heart))\n",
        "print(np.mean(acc_LMKNN_heart))\n"
      ],
      "execution_count": null,
      "outputs": [
        {
          "output_type": "stream",
          "text": [
            "0.7224137931034482\n",
            "0.7060919540229885\n"
          ],
          "name": "stdout"
        }
      ]
    },
    {
      "cell_type": "markdown",
      "metadata": {
        "id": "v_y7oDtXQ0MV"
      },
      "source": [
        "##Result of the Sensitivity to the Neighborhood Size K"
      ]
    },
    {
      "cell_type": "code",
      "metadata": {
        "colab": {
          "base_uri": "https://localhost:8080/"
        },
        "id": "Tpra9ftsJiT8",
        "outputId": "351ce18f-f484-499f-c7eb-3ba21ed73a80"
      },
      "source": [
        "from sklearn.model_selection import StratifiedKFold\n",
        "kf = StratifiedKFold(n_splits=10, random_state=None, shuffle=True) \n",
        "kf.get_n_splits(fitur_train_normalize)\n",
        "\n",
        "K = range(2,15)\n",
        "result_KNN_HR = []\n",
        "result_LMKNN_HR = []\n",
        "\n",
        "for k in K :\n",
        "  acc_LMKNN_heart = [] \n",
        "  acc_KNN_heart = [] \n",
        "  for train_index, test_index in kf.split(fitur_train_normalize,label_train):\n",
        "    knn = KNN(k)\n",
        "    lmknn = LMKNN(k)\n",
        "    X_train, X_test = fitur_train_normalize[train_index], fitur_train_normalize[test_index]\n",
        "    y_train, y_test = label_train[train_index], label_train[test_index]\n",
        "\n",
        "    knn.fit(X_train,y_train)\n",
        "    prediction = knn.score(X_test, y_test)\n",
        "    acc_KNN_heart.append(prediction)\n",
        "\n",
        "    lmknn.fit(X_train, y_train) \n",
        "    result = lmknn.score(X_test, y_test)\n",
        "    acc_LMKNN_heart.append(result)\n",
        "  result_KNN_HR.append(np.mean(acc_KNN_heart))\n",
        "  result_LMKNN_HR.append(np.mean(acc_LMKNN_heart))\n",
        "print('KNN : ',result_KNN_HR)\n",
        "print('LMKNN : ',result_LMKNN_HR)\n"
      ],
      "execution_count": null,
      "outputs": [
        {
          "output_type": "stream",
          "text": [
            "KNN :  [0.6688505747126436, 0.7186206896551723, 0.7325287356321838, 0.6888505747126437, 0.7191954022988505, 0.6925287356321839, 0.7024137931034483, 0.6958620689655172, 0.689080459770115, 0.6822988505747126, 0.6725287356321838, 0.682528735632184, 0.6658620689655173]\n",
            "LMKNN :  [0.6694252873563218, 0.705287356321839, 0.7326436781609196, 0.699080459770115, 0.688735632183908, 0.695977011494253, 0.6718390804597701, 0.6991954022988506, 0.6960919540229885, 0.6890804597701149, 0.6656321839080459, 0.7059770114942528, 0.6820689655172413]\n"
          ],
          "name": "stdout"
        }
      ]
    },
    {
      "cell_type": "code",
      "metadata": {
        "colab": {
          "base_uri": "https://localhost:8080/",
          "height": 278
        },
        "id": "a8dW6eaYL00E",
        "outputId": "4fb17ce0-c6f7-4c3f-a028-703faef31882"
      },
      "source": [
        "import matplotlib.pyplot as plt\n",
        "plt.plot(range(2,15), result_KNN_HR)\n",
        "plt.plot(range(2,15), result_LMKNN_HR, color=\"yellow\")\n",
        "plt.ylabel('Accuracy')\n",
        "plt.xlabel('K')\n",
        "plt.show()\n"
      ],
      "execution_count": null,
      "outputs": [
        {
          "output_type": "display_data",
          "data": {
            "image/png": "[encoded data removed]",
            "text/plain": [
              "<Figure size 432x288 with 1 Axes>"
            ]
          },
          "metadata": {
            "tags": [],
            "needs_background": "light"
          }
        }
      ]
    },
    {
      "cell_type": "markdown",
      "metadata": {
        "id": "E49Z_1U8WCbB"
      },
      "source": [
        "#Iris"
      ]
    },
    {
      "cell_type": "code",
      "metadata": {
        "colab": {
          "base_uri": "https://localhost:8080/",
          "height": 197
        },
        "id": "FEKM6wUTWajZ",
        "outputId": "e3a9b8ee-395d-475d-d2b2-f3b45d9a88bb"
      },
      "source": [
        "train_path = r'drive/My Drive/Colab Notebooks/Dataset/iris.csv'\n",
        "data_train = pd.read_csv(train_path)\n",
        "data_train.head()"
      ],
      "execution_count": null,
      "outputs": [
        {
          "output_type": "execute_result",
          "data": {
            "text/html": [
              "<div>\n",
              "<style scoped>\n",
              "    .dataframe tbody tr th:only-of-type {\n",
              "        vertical-align: middle;\n",
              "    }\n",
              "\n",
              "    .dataframe tbody tr th {\n",
              "        vertical-align: top;\n",
              "    }\n",
              "\n",
              "    .dataframe thead th {\n",
              "        text-align: right;\n",
              "    }\n",
              "</style>\n",
              "<table border=\"1\" class=\"dataframe\">\n",
              "  <thead>\n",
              "    <tr style=\"text-align: right;\">\n",
              "      <th></th>\n",
              "      <th>SL</th>\n",
              "      <th>SW</th>\n",
              "      <th>PL</th>\n",
              "      <th>PW</th>\n",
              "      <th>Class</th>\n",
              "    </tr>\n",
              "  </thead>\n",
              "  <tbody>\n",
              "    <tr>\n",
              "      <th>0</th>\n",
              "      <td>5.1</td>\n",
              "      <td>3.5</td>\n",
              "      <td>1.4</td>\n",
              "      <td>0.2</td>\n",
              "      <td>Iris-setosa</td>\n",
              "    </tr>\n",
              "    <tr>\n",
              "      <th>1</th>\n",
              "      <td>4.9</td>\n",
              "      <td>3.0</td>\n",
              "      <td>1.4</td>\n",
              "      <td>0.2</td>\n",
              "      <td>Iris-setosa</td>\n",
              "    </tr>\n",
              "    <tr>\n",
              "      <th>2</th>\n",
              "      <td>4.7</td>\n",
              "      <td>3.2</td>\n",
              "      <td>1.3</td>\n",
              "      <td>0.2</td>\n",
              "      <td>Iris-setosa</td>\n",
              "    </tr>\n",
              "    <tr>\n",
              "      <th>3</th>\n",
              "      <td>4.6</td>\n",
              "      <td>3.1</td>\n",
              "      <td>1.5</td>\n",
              "      <td>0.2</td>\n",
              "      <td>Iris-setosa</td>\n",
              "    </tr>\n",
              "    <tr>\n",
              "      <th>4</th>\n",
              "      <td>5.0</td>\n",
              "      <td>3.6</td>\n",
              "      <td>1.4</td>\n",
              "      <td>0.2</td>\n",
              "      <td>Iris-setosa</td>\n",
              "    </tr>\n",
              "  </tbody>\n",
              "</table>\n",
              "</div>"
            ],
            "text/plain": [
              "    SL   SW   PL   PW        Class\n",
              "0  5.1  3.5  1.4  0.2  Iris-setosa\n",
              "1  4.9  3.0  1.4  0.2  Iris-setosa\n",
              "2  4.7  3.2  1.3  0.2  Iris-setosa\n",
              "3  4.6  3.1  1.5  0.2  Iris-setosa\n",
              "4  5.0  3.6  1.4  0.2  Iris-setosa"
            ]
          },
          "metadata": {
            "tags": []
          },
          "execution_count": 98
        }
      ]
    },
    {
      "cell_type": "markdown",
      "metadata": {
        "id": "iwy7dfx1zqxm"
      },
      "source": [
        "##Check Missing Value"
      ]
    },
    {
      "cell_type": "code",
      "metadata": {
        "colab": {
          "base_uri": "https://localhost:8080/"
        },
        "id": "PIANg4u0zqxm",
        "outputId": "34f44587-706e-4403-a403-feb2f1fa01ed"
      },
      "source": [
        "for col in data_train.columns:\n",
        "    print(col, str(round(100* data_train[col].isnull().sum() / len(data_train), 2)) + '%')"
      ],
      "execution_count": null,
      "outputs": [
        {
          "output_type": "stream",
          "text": [
            "SL 0.0%\n",
            "SW 0.0%\n",
            "PL 0.0%\n",
            "PW 0.0%\n",
            "Class 0.0%\n"
          ],
          "name": "stdout"
        }
      ]
    },
    {
      "cell_type": "markdown",
      "metadata": {
        "id": "07kJFcf3zqxn"
      },
      "source": [
        "##Preprocessing"
      ]
    },
    {
      "cell_type": "code",
      "metadata": {
        "colab": {
          "base_uri": "https://localhost:8080/"
        },
        "id": "K0EuTxqEzqxn",
        "outputId": "a9c5fb6b-3857-44e4-b7ba-087b5f07ed47"
      },
      "source": [
        "print(data_train.columns.tolist())"
      ],
      "execution_count": null,
      "outputs": [
        {
          "output_type": "stream",
          "text": [
            "['SL', 'SW', 'PL', 'PW', 'Class']\n"
          ],
          "name": "stdout"
        }
      ]
    },
    {
      "cell_type": "code",
      "metadata": {
        "id": "ASRnfObTzqxn"
      },
      "source": [
        "label_train = data_train['Class'].to_numpy()\n",
        "fitur_train = data_train[['SL', 'SW', 'PL', 'PW']].to_numpy()"
      ],
      "execution_count": null,
      "outputs": []
    },
    {
      "cell_type": "code",
      "metadata": {
        "colab": {
          "base_uri": "https://localhost:8080/"
        },
        "id": "4qYGASw4zqxn",
        "outputId": "988d4ead-6b22-4d72-c9b6-1237eaa19b5a"
      },
      "source": [
        "scaler = MinMaxScaler(feature_range=(0, 1))\n",
        "scaler.fit(fitur_train)\n",
        "fitur_train_normalize = scaler.transform(fitur_train)\n",
        "print(fitur_train_normalize[0])\n",
        "fitur_train = fitur_train_normalize"
      ],
      "execution_count": null,
      "outputs": [
        {
          "output_type": "stream",
          "text": [
            "[0.22222222 0.625      0.06779661 0.04166667]\n"
          ],
          "name": "stdout"
        }
      ]
    },
    {
      "cell_type": "code",
      "metadata": {
        "id": "CRZcDQ8Vzqxn"
      },
      "source": [
        "# X_train, X_test, y_train, y_test = train_test_split(fitur_train, label_train, random_state=42, stratify=label_train, test_size=0.2  )"
      ],
      "execution_count": null,
      "outputs": []
    },
    {
      "cell_type": "markdown",
      "metadata": {
        "id": "VEwdKzUyzqxn"
      },
      "source": [
        "##Klasifikasi with k = 3"
      ]
    },
    {
      "cell_type": "code",
      "metadata": {
        "colab": {
          "base_uri": "https://localhost:8080/"
        },
        "id": "V797U5kOSnAW",
        "outputId": "b64def39-5097-4221-fc91-e70065898a91"
      },
      "source": [
        "from sklearn.model_selection import StratifiedKFold\n",
        "kf = StratifiedKFold(n_splits=10, random_state=None, shuffle=True) \n",
        "kf.get_n_splits(fitur_train)\n",
        "acc_LMKNN_heart = [] \n",
        "acc_KNN_heart = [] \n",
        "\n",
        "for train_index, test_index in kf.split(fitur_train, label_train):\n",
        "  knn = KNN(3)\n",
        "  lmknn = LMKNN(3)\n",
        "  X_train, X_test = fitur_train[train_index], fitur_train[test_index]\n",
        "  y_train, y_test = label_train[train_index], label_train[test_index]\n",
        "\n",
        "  knn.fit(X_train,y_train)\n",
        "  prediction = knn.score(X_test, y_test)\n",
        "  acc_KNN_heart.append(prediction)\n",
        " \n",
        "  lmknn.fit(X_train, y_train) \n",
        "  result = lmknn.score(X_test, y_test)\n",
        "  acc_LMKNN_heart.append(result)\n",
        "\n",
        "print('KNN : ',np.mean(acc_KNN_heart))\n",
        "print('LMKNN : ',np.mean(acc_LMKNN_heart))"
      ],
      "execution_count": null,
      "outputs": [
        {
          "output_type": "stream",
          "text": [
            "KNN :  0.95\n",
            "LMKNN :  0.9583333333333333\n"
          ],
          "name": "stdout"
        }
      ]
    },
    {
      "cell_type": "markdown",
      "metadata": {
        "id": "rVDJ43j3RZ7D"
      },
      "source": [
        "##Result of the Sensitivity to the Neighborhood Size K"
      ]
    },
    {
      "cell_type": "code",
      "metadata": {
        "colab": {
          "base_uri": "https://localhost:8080/"
        },
        "id": "k7ZTl_vXP5yW",
        "outputId": "fc4c8591-395f-4d95-c631-406a037bfb1e"
      },
      "source": [
        "from sklearn.model_selection import StratifiedKFold\n",
        "kf = StratifiedKFold(n_splits=10, random_state=None, shuffle=True) \n",
        "kf.get_n_splits(fitur_train_normalize)\n",
        "\n",
        "K = range(2,15)\n",
        "result_KNN_IR = []\n",
        "result_LMKNN_IR = []\n",
        "\n",
        "for k in K :\n",
        "  acc_LMKNN_heart = [] \n",
        "  acc_KNN_heart = [] \n",
        "  for train_index, test_index in kf.split(fitur_train_normalize,label_train):\n",
        "    knn = KNN(k)\n",
        "    lmknn = LMKNN(k)\n",
        "    X_train, X_test = fitur_train_normalize[train_index], fitur_train_normalize[test_index]\n",
        "    y_train, y_test = label_train[train_index], label_train[test_index]\n",
        "\n",
        "    knn.fit(X_train,y_train)\n",
        "    prediction = knn.score(X_test, y_test)\n",
        "    acc_KNN_heart.append(prediction)\n",
        "\n",
        "    lmknn.fit(X_train, y_train) \n",
        "    result = lmknn.score(X_test, y_test)\n",
        "    acc_LMKNN_heart.append(result)\n",
        "  result_KNN_IR.append(np.mean(acc_KNN_heart))\n",
        "  result_LMKNN_IR.append(np.mean(acc_LMKNN_heart))\n",
        "print('KNN : ',result_KNN_IR)\n",
        "print('LMKNN : ',result_LMKNN_IR)\n"
      ],
      "execution_count": null,
      "outputs": [
        {
          "output_type": "stream",
          "text": [
            "KNN :  [0.95, 0.9416666666666667, 0.9416666666666667, 0.9583333333333333, 0.9583333333333333, 0.95, 0.95, 0.95, 0.9416666666666667, 0.9416666666666667, 0.95, 0.9416666666666667, 0.95]\n",
            "LMKNN :  [0.975, 0.9416666666666667, 0.9416666666666667, 0.9416666666666667, 0.95, 0.95, 0.95, 0.95, 0.9416666666666667, 0.9499999999999998, 0.95, 0.95, 0.95]\n"
          ],
          "name": "stdout"
        }
      ]
    },
    {
      "cell_type": "code",
      "metadata": {
        "colab": {
          "base_uri": "https://localhost:8080/",
          "height": 278
        },
        "id": "prONQsAZP5yW",
        "outputId": "38bc4c4e-f36f-4cde-8b28-879b3218742f"
      },
      "source": [
        "import matplotlib.pyplot as plt\n",
        "plt.plot(range(2,15), result_KNN_IR)\n",
        "plt.plot(range(2,15), result_LMKNN_IR, color=\"yellow\")\n",
        "plt.ylabel('Accuracy')\n",
        "plt.xlabel('K')\n",
        "plt.show()\n"
      ],
      "execution_count": null,
      "outputs": [
        {
          "output_type": "display_data",
          "data": {
            "image/png": "[encoded data removed]",
            "text/plain": [
              "<Figure size 432x288 with 1 Axes>"
            ]
          },
          "metadata": {
            "tags": [],
            "needs_background": "light"
          }
        }
      ]
    },
    {
      "cell_type": "markdown",
      "metadata": {
        "id": "90erFZm_WErl"
      },
      "source": [
        "#Diabetes"
      ]
    },
    {
      "cell_type": "code",
      "metadata": {
        "colab": {
          "base_uri": "https://localhost:8080/",
          "height": 197
        },
        "id": "o7su8gpwWdy5",
        "outputId": "64aeee9a-c6d7-4ffa-f101-bd17909fb15b"
      },
      "source": [
        "train_path = r'drive/My Drive/Colab Notebooks/Dataset/diabetes.csv'\n",
        "data_train = pd.read_csv(train_path)\n",
        "data_train.head()"
      ],
      "execution_count": null,
      "outputs": [
        {
          "output_type": "execute_result",
          "data": {
            "text/html": [
              "<div>\n",
              "<style scoped>\n",
              "    .dataframe tbody tr th:only-of-type {\n",
              "        vertical-align: middle;\n",
              "    }\n",
              "\n",
              "    .dataframe tbody tr th {\n",
              "        vertical-align: top;\n",
              "    }\n",
              "\n",
              "    .dataframe thead th {\n",
              "        text-align: right;\n",
              "    }\n",
              "</style>\n",
              "<table border=\"1\" class=\"dataframe\">\n",
              "  <thead>\n",
              "    <tr style=\"text-align: right;\">\n",
              "      <th></th>\n",
              "      <th>Pregnancies</th>\n",
              "      <th>Glucose</th>\n",
              "      <th>BloodPressure</th>\n",
              "      <th>SkinThickness</th>\n",
              "      <th>Insulin</th>\n",
              "      <th>BMI</th>\n",
              "      <th>DiabetesPedigreeFunction</th>\n",
              "      <th>Age</th>\n",
              "      <th>Outcome</th>\n",
              "    </tr>\n",
              "  </thead>\n",
              "  <tbody>\n",
              "    <tr>\n",
              "      <th>0</th>\n",
              "      <td>6</td>\n",
              "      <td>148</td>\n",
              "      <td>72</td>\n",
              "      <td>35</td>\n",
              "      <td>0</td>\n",
              "      <td>33.6</td>\n",
              "      <td>0.627</td>\n",
              "      <td>50</td>\n",
              "      <td>1</td>\n",
              "    </tr>\n",
              "    <tr>\n",
              "      <th>1</th>\n",
              "      <td>1</td>\n",
              "      <td>85</td>\n",
              "      <td>66</td>\n",
              "      <td>29</td>\n",
              "      <td>0</td>\n",
              "      <td>26.6</td>\n",
              "      <td>0.351</td>\n",
              "      <td>31</td>\n",
              "      <td>0</td>\n",
              "    </tr>\n",
              "    <tr>\n",
              "      <th>2</th>\n",
              "      <td>8</td>\n",
              "      <td>183</td>\n",
              "      <td>64</td>\n",
              "      <td>0</td>\n",
              "      <td>0</td>\n",
              "      <td>23.3</td>\n",
              "      <td>0.672</td>\n",
              "      <td>32</td>\n",
              "      <td>1</td>\n",
              "    </tr>\n",
              "    <tr>\n",
              "      <th>3</th>\n",
              "      <td>1</td>\n",
              "      <td>89</td>\n",
              "      <td>66</td>\n",
              "      <td>23</td>\n",
              "      <td>94</td>\n",
              "      <td>28.1</td>\n",
              "      <td>0.167</td>\n",
              "      <td>21</td>\n",
              "      <td>0</td>\n",
              "    </tr>\n",
              "    <tr>\n",
              "      <th>4</th>\n",
              "      <td>0</td>\n",
              "      <td>137</td>\n",
              "      <td>40</td>\n",
              "      <td>35</td>\n",
              "      <td>168</td>\n",
              "      <td>43.1</td>\n",
              "      <td>2.288</td>\n",
              "      <td>33</td>\n",
              "      <td>1</td>\n",
              "    </tr>\n",
              "  </tbody>\n",
              "</table>\n",
              "</div>"
            ],
            "text/plain": [
              "   Pregnancies  Glucose  BloodPressure  ...  DiabetesPedigreeFunction  Age  Outcome\n",
              "0            6      148             72  ...                     0.627   50        1\n",
              "1            1       85             66  ...                     0.351   31        0\n",
              "2            8      183             64  ...                     0.672   32        1\n",
              "3            1       89             66  ...                     0.167   21        0\n",
              "4            0      137             40  ...                     2.288   33        1\n",
              "\n",
              "[5 rows x 9 columns]"
            ]
          },
          "metadata": {
            "tags": []
          },
          "execution_count": 91
        }
      ]
    },
    {
      "cell_type": "markdown",
      "metadata": {
        "id": "kzQ5_G_UXbqM"
      },
      "source": [
        "##Check Missing Value"
      ]
    },
    {
      "cell_type": "code",
      "metadata": {
        "colab": {
          "base_uri": "https://localhost:8080/"
        },
        "id": "4iif-bQEXbqM",
        "outputId": "c6e9f4e4-3067-4c33-a087-7b51c1b477f1"
      },
      "source": [
        "for col in data_train.columns:\n",
        "    print(col, str(round(100* data_train[col].isnull().sum() / len(data_train), 2)) + '%')"
      ],
      "execution_count": null,
      "outputs": [
        {
          "output_type": "stream",
          "text": [
            "Pregnancies 0.0%\n",
            "Glucose 0.0%\n",
            "BloodPressure 0.0%\n",
            "SkinThickness 0.0%\n",
            "Insulin 0.0%\n",
            "BMI 0.0%\n",
            "DiabetesPedigreeFunction 0.0%\n",
            "Age 0.0%\n",
            "Outcome 0.0%\n"
          ],
          "name": "stdout"
        }
      ]
    },
    {
      "cell_type": "markdown",
      "metadata": {
        "id": "cO_YmRAKkFqe"
      },
      "source": [
        "##Preprocessing"
      ]
    },
    {
      "cell_type": "code",
      "metadata": {
        "colab": {
          "base_uri": "https://localhost:8080/"
        },
        "id": "wOYhBzQtkFqe",
        "outputId": "870ca04f-e5cc-4a09-dd1e-7b95bcbd0031"
      },
      "source": [
        "print(data_train.columns.tolist())"
      ],
      "execution_count": null,
      "outputs": [
        {
          "output_type": "stream",
          "text": [
            "['Pregnancies', 'Glucose', 'BloodPressure', 'SkinThickness', 'Insulin', 'BMI', 'DiabetesPedigreeFunction', 'Age', 'Outcome']\n"
          ],
          "name": "stdout"
        }
      ]
    },
    {
      "cell_type": "code",
      "metadata": {
        "id": "aLt2G6L8kFqe"
      },
      "source": [
        "label_train = data_train['Outcome'].to_numpy()\n",
        "fitur_train = data_train[['Pregnancies', 'Glucose', 'BloodPressure', 'SkinThickness', 'Insulin', 'BMI', 'DiabetesPedigreeFunction', 'Age']].to_numpy()"
      ],
      "execution_count": null,
      "outputs": []
    },
    {
      "cell_type": "code",
      "metadata": {
        "colab": {
          "base_uri": "https://localhost:8080/"
        },
        "id": "AI949f5WkFqe",
        "outputId": "672073a0-8ff1-4710-d271-f61eb37b1ff4"
      },
      "source": [
        "scaler = MinMaxScaler(feature_range=(0, 1))\n",
        "scaler.fit(fitur_train)\n",
        "fitur_train_normalize = scaler.transform(fitur_train)\n",
        "print(fitur_train_normalize[0])"
      ],
      "execution_count": null,
      "outputs": [
        {
          "output_type": "stream",
          "text": [
            "[0.35294118 0.74371859 0.59016393 0.35353535 0.         0.50074516\n",
            " 0.23441503 0.48333333]\n"
          ],
          "name": "stdout"
        }
      ]
    },
    {
      "cell_type": "markdown",
      "metadata": {
        "id": "wwLbfERnkPv7"
      },
      "source": [
        "##Klasifikasi"
      ]
    },
    {
      "cell_type": "code",
      "metadata": {
        "colab": {
          "base_uri": "https://localhost:8080/"
        },
        "id": "A07H_DTij38E",
        "outputId": "19f1dee0-0b43-4634-c4e0-645b156867b3"
      },
      "source": [
        "from sklearn.model_selection import StratifiedKFold\n",
        "kf = StratifiedKFold(n_splits=10, random_state=None, shuffle=True) \n",
        "kf.get_n_splits(fitur_train_normalize)\n",
        "acc_LMKNN_heart = [] \n",
        "acc_KNN_heart = [] \n",
        "\n",
        "for train_index, test_index in kf.split(fitur_train_normalize,label_train):\n",
        "  knn = KNN(3)\n",
        "  lmknn = LMKNN(3)\n",
        "  X_train, X_test = fitur_train_normalize[train_index], fitur_train_normalize[test_index]\n",
        "  y_train, y_test = label_train[train_index], label_train[test_index]\n",
        "\n",
        "  knn.fit(X_train,y_train)\n",
        "  prediction = knn.score(X_test, y_test)\n",
        "  acc_KNN_heart.append(prediction)\n",
        " \n",
        "  lmknn.fit(X_train, y_train) \n",
        "  result = lmknn.score(X_test, y_test)\n",
        "  acc_LMKNN_heart.append(result)\n",
        "\n",
        "print('KNN : ',np.mean(acc_KNN_heart))\n",
        "print('LMKNN : ',np.mean(acc_LMKNN_heart))"
      ],
      "execution_count": null,
      "outputs": [
        {
          "output_type": "stream",
          "text": [
            "KNN :  0.7357484620642516\n",
            "LMKNN :  0.7018626110731374\n"
          ],
          "name": "stdout"
        }
      ]
    },
    {
      "cell_type": "markdown",
      "metadata": {
        "id": "MGrLXLFERo70"
      },
      "source": [
        "##Result of the Sensitivity to the Neighborhood Size K"
      ]
    },
    {
      "cell_type": "code",
      "metadata": {
        "colab": {
          "base_uri": "https://localhost:8080/"
        },
        "id": "ENK2KNDIRmyq",
        "outputId": "b659489e-5b1a-4745-a763-8e61555e1956"
      },
      "source": [
        "from sklearn.model_selection import StratifiedKFold\n",
        "kf = StratifiedKFold(n_splits=10, random_state=None, shuffle=True) \n",
        "kf.get_n_splits(fitur_train_normalize)\n",
        "\n",
        "K = range(2,15)\n",
        "result_KNN_D = []\n",
        "result_LMKNN_D = []\n",
        "\n",
        "for k in K :\n",
        "  acc_LMKNN_heart = [] \n",
        "  acc_KNN_heart = [] \n",
        "  for train_index, test_index in kf.split(fitur_train_normalize,label_train):\n",
        "    knn = KNN(k)\n",
        "    lmknn = LMKNN(k)\n",
        "    X_train, X_test = fitur_train_normalize[train_index], fitur_train_normalize[test_index]\n",
        "    y_train, y_test = label_train[train_index], label_train[test_index]\n",
        "\n",
        "    knn.fit(X_train,y_train)\n",
        "    prediction = knn.score(X_test, y_test)\n",
        "    acc_KNN_heart.append(prediction)\n",
        "\n",
        "    lmknn.fit(X_train, y_train) \n",
        "    result = lmknn.score(X_test, y_test)\n",
        "    acc_LMKNN_heart.append(result)\n",
        "  result_KNN_D.append(np.mean(acc_KNN_heart))\n",
        "  result_LMKNN_D.append(np.mean(acc_LMKNN_heart))\n",
        "print('KNN : ',result_KNN_D)\n",
        "print('LMKNN : ',result_LMKNN_D)\n"
      ],
      "execution_count": null,
      "outputs": [
        {
          "output_type": "stream",
          "text": [
            "KNN :  [0.7160970608339029, 0.7499829118250171, 0.7408065618591934, 0.7343130553656869, 0.7240601503759398, 0.740909090909091, 0.7356117566643883, 0.7342959671907041, 0.7240088858509911, 0.7460184552289816, 0.7356117566643883, 0.7435235816814764, 0.7604237867395763]\n",
            "LMKNN :  [0.7252221462747779, 0.6926691729323308, 0.7291524265208477, 0.7212747778537252, 0.724025974025974, 0.7278537252221463, 0.759125085440875, 0.7447368421052631, 0.7461551606288449, 0.7668318523581681, 0.7655502392344496, 0.7642173615857827, 0.7629186602870812]\n"
          ],
          "name": "stdout"
        }
      ]
    },
    {
      "cell_type": "code",
      "metadata": {
        "colab": {
          "base_uri": "https://localhost:8080/",
          "height": 294
        },
        "id": "q5AaKyVCRmyr",
        "outputId": "51b658e9-ae21-4717-a1bd-7512630ecf10"
      },
      "source": [
        "import matplotlib.pyplot as plt\n",
        "plt.plot(range(2,15), result_KNN_D)\n",
        "plt.plot(range(2,15), result_LMKNN_D, color=\"yellow\")\n",
        "plt.title(\"Diabetes\")\n",
        "plt.ylabel('Accuracy')\n",
        "plt.xlabel('K')\n",
        "plt.show()\n"
      ],
      "execution_count": null,
      "outputs": [
        {
          "output_type": "display_data",
          "data": {
            "image/png": "[encoded data removed]",
            "text/plain": [
              "<Figure size 432x288 with 1 Axes>"
            ]
          },
          "metadata": {
            "tags": [],
            "needs_background": "light"
          }
        }
      ]
    },
    {
      "cell_type": "markdown",
      "metadata": {
        "id": "idGwBusWWG96"
      },
      "source": [
        "#Breast Cancer"
      ]
    },
    {
      "cell_type": "code",
      "metadata": {
        "colab": {
          "base_uri": "https://localhost:8080/",
          "height": 234
        },
        "id": "VBP_hwyPXhoI",
        "outputId": "d80ff784-3c07-4ecf-d60f-9d3ae9fdb135"
      },
      "source": [
        "train_path = r'drive/My Drive/Colab Notebooks/Dataset/data_breast_cancer.csv'\n",
        "data_train = pd.read_csv(train_path)\n",
        "data_train.head()"
      ],
      "execution_count": null,
      "outputs": [
        {
          "output_type": "execute_result",
          "data": {
            "text/html": [
              "<div>\n",
              "<style scoped>\n",
              "    .dataframe tbody tr th:only-of-type {\n",
              "        vertical-align: middle;\n",
              "    }\n",
              "\n",
              "    .dataframe tbody tr th {\n",
              "        vertical-align: top;\n",
              "    }\n",
              "\n",
              "    .dataframe thead th {\n",
              "        text-align: right;\n",
              "    }\n",
              "</style>\n",
              "<table border=\"1\" class=\"dataframe\">\n",
              "  <thead>\n",
              "    <tr style=\"text-align: right;\">\n",
              "      <th></th>\n",
              "      <th>id</th>\n",
              "      <th>diagnosis</th>\n",
              "      <th>radius_mean</th>\n",
              "      <th>texture_mean</th>\n",
              "      <th>perimeter_mean</th>\n",
              "      <th>area_mean</th>\n",
              "      <th>smoothness_mean</th>\n",
              "      <th>compactness_mean</th>\n",
              "      <th>concavity_mean</th>\n",
              "      <th>concave points_mean</th>\n",
              "      <th>symmetry_mean</th>\n",
              "      <th>fractal_dimension_mean</th>\n",
              "      <th>radius_se</th>\n",
              "      <th>texture_se</th>\n",
              "      <th>perimeter_se</th>\n",
              "      <th>area_se</th>\n",
              "      <th>smoothness_se</th>\n",
              "      <th>compactness_se</th>\n",
              "      <th>concavity_se</th>\n",
              "      <th>concave points_se</th>\n",
              "      <th>symmetry_se</th>\n",
              "      <th>fractal_dimension_se</th>\n",
              "      <th>radius_worst</th>\n",
              "      <th>texture_worst</th>\n",
              "      <th>perimeter_worst</th>\n",
              "      <th>area_worst</th>\n",
              "      <th>smoothness_worst</th>\n",
              "      <th>compactness_worst</th>\n",
              "      <th>concavity_worst</th>\n",
              "      <th>concave points_worst</th>\n",
              "      <th>symmetry_worst</th>\n",
              "      <th>fractal_dimension_worst</th>\n",
              "      <th>Unnamed: 32</th>\n",
              "    </tr>\n",
              "  </thead>\n",
              "  <tbody>\n",
              "    <tr>\n",
              "      <th>0</th>\n",
              "      <td>842302</td>\n",
              "      <td>M</td>\n",
              "      <td>17.99</td>\n",
              "      <td>10.38</td>\n",
              "      <td>122.80</td>\n",
              "      <td>1001.0</td>\n",
              "      <td>0.11840</td>\n",
              "      <td>0.27760</td>\n",
              "      <td>0.3001</td>\n",
              "      <td>0.14710</td>\n",
              "      <td>0.2419</td>\n",
              "      <td>0.07871</td>\n",
              "      <td>1.0950</td>\n",
              "      <td>0.9053</td>\n",
              "      <td>8.589</td>\n",
              "      <td>153.40</td>\n",
              "      <td>0.006399</td>\n",
              "      <td>0.04904</td>\n",
              "      <td>0.05373</td>\n",
              "      <td>0.01587</td>\n",
              "      <td>0.03003</td>\n",
              "      <td>0.006193</td>\n",
              "      <td>25.38</td>\n",
              "      <td>17.33</td>\n",
              "      <td>184.60</td>\n",
              "      <td>2019.0</td>\n",
              "      <td>0.1622</td>\n",
              "      <td>0.6656</td>\n",
              "      <td>0.7119</td>\n",
              "      <td>0.2654</td>\n",
              "      <td>0.4601</td>\n",
              "      <td>0.11890</td>\n",
              "      <td>NaN</td>\n",
              "    </tr>\n",
              "    <tr>\n",
              "      <th>1</th>\n",
              "      <td>842517</td>\n",
              "      <td>M</td>\n",
              "      <td>20.57</td>\n",
              "      <td>17.77</td>\n",
              "      <td>132.90</td>\n",
              "      <td>1326.0</td>\n",
              "      <td>0.08474</td>\n",
              "      <td>0.07864</td>\n",
              "      <td>0.0869</td>\n",
              "      <td>0.07017</td>\n",
              "      <td>0.1812</td>\n",
              "      <td>0.05667</td>\n",
              "      <td>0.5435</td>\n",
              "      <td>0.7339</td>\n",
              "      <td>3.398</td>\n",
              "      <td>74.08</td>\n",
              "      <td>0.005225</td>\n",
              "      <td>0.01308</td>\n",
              "      <td>0.01860</td>\n",
              "      <td>0.01340</td>\n",
              "      <td>0.01389</td>\n",
              "      <td>0.003532</td>\n",
              "      <td>24.99</td>\n",
              "      <td>23.41</td>\n",
              "      <td>158.80</td>\n",
              "      <td>1956.0</td>\n",
              "      <td>0.1238</td>\n",
              "      <td>0.1866</td>\n",
              "      <td>0.2416</td>\n",
              "      <td>0.1860</td>\n",
              "      <td>0.2750</td>\n",
              "      <td>0.08902</td>\n",
              "      <td>NaN</td>\n",
              "    </tr>\n",
              "    <tr>\n",
              "      <th>2</th>\n",
              "      <td>84300903</td>\n",
              "      <td>M</td>\n",
              "      <td>19.69</td>\n",
              "      <td>21.25</td>\n",
              "      <td>130.00</td>\n",
              "      <td>1203.0</td>\n",
              "      <td>0.10960</td>\n",
              "      <td>0.15990</td>\n",
              "      <td>0.1974</td>\n",
              "      <td>0.12790</td>\n",
              "      <td>0.2069</td>\n",
              "      <td>0.05999</td>\n",
              "      <td>0.7456</td>\n",
              "      <td>0.7869</td>\n",
              "      <td>4.585</td>\n",
              "      <td>94.03</td>\n",
              "      <td>0.006150</td>\n",
              "      <td>0.04006</td>\n",
              "      <td>0.03832</td>\n",
              "      <td>0.02058</td>\n",
              "      <td>0.02250</td>\n",
              "      <td>0.004571</td>\n",
              "      <td>23.57</td>\n",
              "      <td>25.53</td>\n",
              "      <td>152.50</td>\n",
              "      <td>1709.0</td>\n",
              "      <td>0.1444</td>\n",
              "      <td>0.4245</td>\n",
              "      <td>0.4504</td>\n",
              "      <td>0.2430</td>\n",
              "      <td>0.3613</td>\n",
              "      <td>0.08758</td>\n",
              "      <td>NaN</td>\n",
              "    </tr>\n",
              "    <tr>\n",
              "      <th>3</th>\n",
              "      <td>84348301</td>\n",
              "      <td>M</td>\n",
              "      <td>11.42</td>\n",
              "      <td>20.38</td>\n",
              "      <td>77.58</td>\n",
              "      <td>386.1</td>\n",
              "      <td>0.14250</td>\n",
              "      <td>0.28390</td>\n",
              "      <td>0.2414</td>\n",
              "      <td>0.10520</td>\n",
              "      <td>0.2597</td>\n",
              "      <td>0.09744</td>\n",
              "      <td>0.4956</td>\n",
              "      <td>1.1560</td>\n",
              "      <td>3.445</td>\n",
              "      <td>27.23</td>\n",
              "      <td>0.009110</td>\n",
              "      <td>0.07458</td>\n",
              "      <td>0.05661</td>\n",
              "      <td>0.01867</td>\n",
              "      <td>0.05963</td>\n",
              "      <td>0.009208</td>\n",
              "      <td>14.91</td>\n",
              "      <td>26.50</td>\n",
              "      <td>98.87</td>\n",
              "      <td>567.7</td>\n",
              "      <td>0.2098</td>\n",
              "      <td>0.8663</td>\n",
              "      <td>0.6869</td>\n",
              "      <td>0.2575</td>\n",
              "      <td>0.6638</td>\n",
              "      <td>0.17300</td>\n",
              "      <td>NaN</td>\n",
              "    </tr>\n",
              "    <tr>\n",
              "      <th>4</th>\n",
              "      <td>84358402</td>\n",
              "      <td>M</td>\n",
              "      <td>20.29</td>\n",
              "      <td>14.34</td>\n",
              "      <td>135.10</td>\n",
              "      <td>1297.0</td>\n",
              "      <td>0.10030</td>\n",
              "      <td>0.13280</td>\n",
              "      <td>0.1980</td>\n",
              "      <td>0.10430</td>\n",
              "      <td>0.1809</td>\n",
              "      <td>0.05883</td>\n",
              "      <td>0.7572</td>\n",
              "      <td>0.7813</td>\n",
              "      <td>5.438</td>\n",
              "      <td>94.44</td>\n",
              "      <td>0.011490</td>\n",
              "      <td>0.02461</td>\n",
              "      <td>0.05688</td>\n",
              "      <td>0.01885</td>\n",
              "      <td>0.01756</td>\n",
              "      <td>0.005115</td>\n",
              "      <td>22.54</td>\n",
              "      <td>16.67</td>\n",
              "      <td>152.20</td>\n",
              "      <td>1575.0</td>\n",
              "      <td>0.1374</td>\n",
              "      <td>0.2050</td>\n",
              "      <td>0.4000</td>\n",
              "      <td>0.1625</td>\n",
              "      <td>0.2364</td>\n",
              "      <td>0.07678</td>\n",
              "      <td>NaN</td>\n",
              "    </tr>\n",
              "  </tbody>\n",
              "</table>\n",
              "</div>"
            ],
            "text/plain": [
              "         id diagnosis  ...  fractal_dimension_worst  Unnamed: 32\n",
              "0    842302         M  ...                  0.11890          NaN\n",
              "1    842517         M  ...                  0.08902          NaN\n",
              "2  84300903         M  ...                  0.08758          NaN\n",
              "3  84348301         M  ...                  0.17300          NaN\n",
              "4  84358402         M  ...                  0.07678          NaN\n",
              "\n",
              "[5 rows x 33 columns]"
            ]
          },
          "metadata": {
            "tags": []
          },
          "execution_count": 65
        }
      ]
    },
    {
      "cell_type": "markdown",
      "metadata": {
        "id": "B2D4iUSoXh5T"
      },
      "source": [
        "###Check Missing Value"
      ]
    },
    {
      "cell_type": "code",
      "metadata": {
        "colab": {
          "base_uri": "https://localhost:8080/"
        },
        "id": "NVM3OxMwXh5U",
        "outputId": "888eab3c-9701-4863-f311-27304f2662c2"
      },
      "source": [
        "data_train.drop('id',axis=1, inplace=True)\n",
        "for col in data_train.columns:\n",
        "    print(col, str(round(100* data_train[col].isnull().sum() / len(data_train), 2)) + '%')"
      ],
      "execution_count": null,
      "outputs": [
        {
          "output_type": "stream",
          "text": [
            "diagnosis 0.0%\n",
            "radius_mean 0.0%\n",
            "texture_mean 0.0%\n",
            "perimeter_mean 0.0%\n",
            "area_mean 0.0%\n",
            "smoothness_mean 0.0%\n",
            "compactness_mean 0.0%\n",
            "concavity_mean 0.0%\n",
            "concave points_mean 0.0%\n",
            "symmetry_mean 0.0%\n",
            "fractal_dimension_mean 0.0%\n",
            "radius_se 0.0%\n",
            "texture_se 0.0%\n",
            "perimeter_se 0.0%\n",
            "area_se 0.0%\n",
            "smoothness_se 0.0%\n",
            "compactness_se 0.0%\n",
            "concavity_se 0.0%\n",
            "concave points_se 0.0%\n",
            "symmetry_se 0.0%\n",
            "fractal_dimension_se 0.0%\n",
            "radius_worst 0.0%\n",
            "texture_worst 0.0%\n",
            "perimeter_worst 0.0%\n",
            "area_worst 0.0%\n",
            "smoothness_worst 0.0%\n",
            "compactness_worst 0.0%\n",
            "concavity_worst 0.0%\n",
            "concave points_worst 0.0%\n",
            "symmetry_worst 0.0%\n",
            "fractal_dimension_worst 0.0%\n",
            "Unnamed: 32 100.0%\n"
          ],
          "name": "stdout"
        }
      ]
    },
    {
      "cell_type": "markdown",
      "metadata": {
        "id": "nEHZpAAkkwcE"
      },
      "source": [
        "##Preprocessing"
      ]
    },
    {
      "cell_type": "code",
      "metadata": {
        "colab": {
          "base_uri": "https://localhost:8080/"
        },
        "id": "MvKfS2jjkwcF",
        "outputId": "32576110-ceea-4d5b-8651-b9d0f48228da"
      },
      "source": [
        "print(data_train.columns.tolist())"
      ],
      "execution_count": null,
      "outputs": [
        {
          "output_type": "stream",
          "text": [
            "['diagnosis', 'radius_mean', 'texture_mean', 'perimeter_mean', 'area_mean', 'smoothness_mean', 'compactness_mean', 'concavity_mean', 'concave points_mean', 'symmetry_mean', 'fractal_dimension_mean', 'radius_se', 'texture_se', 'perimeter_se', 'area_se', 'smoothness_se', 'compactness_se', 'concavity_se', 'concave points_se', 'symmetry_se', 'fractal_dimension_se', 'radius_worst', 'texture_worst', 'perimeter_worst', 'area_worst', 'smoothness_worst', 'compactness_worst', 'concavity_worst', 'concave points_worst', 'symmetry_worst', 'fractal_dimension_worst', 'Unnamed: 32']\n"
          ],
          "name": "stdout"
        }
      ]
    },
    {
      "cell_type": "code",
      "metadata": {
        "id": "PReR_qn8kwcF"
      },
      "source": [
        "label_train = data_train['diagnosis'].to_numpy()\n",
        "fitur_train = data_train[['radius_mean', 'texture_mean', 'perimeter_mean', 'area_mean', 'smoothness_mean', 'compactness_mean', 'concavity_mean', 'concave points_mean', 'symmetry_mean', 'fractal_dimension_mean', 'radius_se', 'texture_se', 'perimeter_se', 'area_se', 'smoothness_se', 'compactness_se', 'concavity_se', 'concave points_se', 'symmetry_se', 'fractal_dimension_se', 'radius_worst', 'texture_worst', 'perimeter_worst', 'area_worst', 'smoothness_worst', 'compactness_worst', 'concavity_worst', 'concave points_worst', 'symmetry_worst', 'fractal_dimension_worst']].to_numpy()"
      ],
      "execution_count": null,
      "outputs": []
    },
    {
      "cell_type": "code",
      "metadata": {
        "colab": {
          "base_uri": "https://localhost:8080/"
        },
        "id": "Ikatf5TwkwcF",
        "outputId": "f783fbf4-0000-40d6-dfab-4368a0826e48"
      },
      "source": [
        "scaler = MinMaxScaler(feature_range=(0, 1))\n",
        "scaler.fit(fitur_train)\n",
        "fitur_train_normalize = scaler.transform(fitur_train)\n",
        "print(fitur_train_normalize[0])"
      ],
      "execution_count": null,
      "outputs": [
        {
          "output_type": "stream",
          "text": [
            "[0.52103744 0.0226581  0.54598853 0.36373277 0.59375282 0.7920373\n",
            " 0.70313964 0.73111332 0.68636364 0.60551811 0.35614702 0.12046941\n",
            " 0.3690336  0.27381126 0.15929565 0.35139844 0.13568182 0.30062512\n",
            " 0.31164518 0.18304244 0.62077552 0.14152452 0.66831017 0.45069799\n",
            " 0.60113584 0.61929156 0.56861022 0.91202749 0.59846245 0.41886396]\n"
          ],
          "name": "stdout"
        }
      ]
    },
    {
      "cell_type": "markdown",
      "metadata": {
        "id": "CuookhIkkwcG"
      },
      "source": [
        "##Klasifikasi"
      ]
    },
    {
      "cell_type": "code",
      "metadata": {
        "colab": {
          "base_uri": "https://localhost:8080/"
        },
        "id": "E-BqSEXSkwcG",
        "outputId": "6d00e5eb-b275-453a-8322-deb54e720576"
      },
      "source": [
        "from sklearn.model_selection import StratifiedKFold\n",
        "kf = StratifiedKFold(n_splits=10, random_state=None, shuffle=True) \n",
        "kf.get_n_splits(fitur_train_normalize)\n",
        "acc_LMKNN_heart = [] \n",
        "acc_KNN_heart = [] \n",
        "\n",
        "for train_index, test_index in kf.split(fitur_train_normalize,label_train):\n",
        "  knn = KNN(3)\n",
        "  lmknn = LMKNN(3)\n",
        "  X_train, X_test = fitur_train_normalize[train_index], fitur_train_normalize[test_index]\n",
        "  y_train, y_test = label_train[train_index], label_train[test_index]\n",
        "\n",
        "  knn.fit(X_train,y_train)\n",
        "  prediction = knn.score(X_test, y_test)\n",
        "  acc_KNN_heart.append(prediction)\n",
        " \n",
        "  lmknn.fit(X_train, y_train) \n",
        "  result = lmknn.score(X_test, y_test)\n",
        "  acc_LMKNN_heart.append(result)\n",
        "\n",
        "print('KNN : ',np.mean(acc_KNN_heart))\n",
        "print('LMKNN : ',np.mean(acc_LMKNN_heart))"
      ],
      "execution_count": null,
      "outputs": [
        {
          "output_type": "stream",
          "text": [
            "KNN :  0.9683897243107771\n",
            "LMKNN :  0.9736528822055138\n"
          ],
          "name": "stdout"
        }
      ]
    },
    {
      "cell_type": "markdown",
      "metadata": {
        "id": "AwHtq9dOSdOo"
      },
      "source": [
        "##Result of the Sensitivity to the Neighborhood Size K"
      ]
    },
    {
      "cell_type": "code",
      "metadata": {
        "colab": {
          "base_uri": "https://localhost:8080/"
        },
        "id": "m3_veEAXSdOo",
        "outputId": "a8492a49-32be-40b6-8876-50710ce220d1"
      },
      "source": [
        "from sklearn.model_selection import StratifiedKFold\n",
        "kf = StratifiedKFold(n_splits=10, random_state=None, shuffle=True) \n",
        "kf.get_n_splits(fitur_train_normalize)\n",
        "\n",
        "K = range(2,15)\n",
        "result_KNN_BC = []\n",
        "result_LMKNN_BC = []\n",
        "\n",
        "for k in K :\n",
        "  acc_LMKNN_heart = [] \n",
        "  acc_KNN_heart = [] \n",
        "  for train_index, test_index in kf.split(fitur_train_normalize,label_train):\n",
        "    knn = KNN(k)\n",
        "    lmknn = LMKNN(k)\n",
        "    X_train, X_test = fitur_train_normalize[train_index], fitur_train_normalize[test_index]\n",
        "    y_train, y_test = label_train[train_index], label_train[test_index]\n",
        "\n",
        "    knn.fit(X_train,y_train)\n",
        "    prediction = knn.score(X_test, y_test)\n",
        "    acc_KNN_heart.append(prediction)\n",
        "\n",
        "    lmknn.fit(X_train, y_train) \n",
        "    result = lmknn.score(X_test, y_test)\n",
        "    acc_LMKNN_heart.append(result)\n",
        "  result_KNN_BC.append(np.mean(acc_KNN_heart))\n",
        "  result_LMKNN_BC.append(np.mean(acc_LMKNN_heart))\n",
        "print('KNN : ',result_KNN_BC)\n",
        "print('LMKNN : ',result_LMKNN_BC)\n"
      ],
      "execution_count": null,
      "outputs": [
        {
          "output_type": "stream",
          "text": [
            "KNN :  [0.9559837092731829, 0.9719298245614034, 0.9666353383458647, 0.9666040100250626, 0.9683897243107769, 0.9666040100250625, 0.9735588972431077, 0.9701441102756891, 0.9683583959899748, 0.9683270676691729, 0.9701441102756891, 0.9648182957393484, 0.9718984962406015]\n",
            "LMKNN :  [0.96124686716792, 0.9648809523809524, 0.9648496240601503, 0.963095238095238, 0.9666353383458647, 0.9718984962406015, 0.975344611528822, 0.9771303258145363, 0.9735588972431077, 0.9736215538847116, 0.9789160401002507, 0.9736215538847116, 0.9754072681704262]\n"
          ],
          "name": "stdout"
        }
      ]
    },
    {
      "cell_type": "code",
      "metadata": {
        "colab": {
          "base_uri": "https://localhost:8080/",
          "height": 294
        },
        "id": "OiTN1loUSdOp",
        "outputId": "3e47c916-38ef-49b9-9ac7-d0eb9a4c108a"
      },
      "source": [
        "import matplotlib.pyplot as plt\n",
        "plt.plot(range(2,15), result_KNN_BC)\n",
        "plt.plot(range(2,15), result_LMKNN_BC, color=\"yellow\")\n",
        "plt.title(\"Breast Cancer\")\n",
        "plt.ylabel('Accuracy')\n",
        "plt.xlabel('K')\n",
        "plt.show()\n"
      ],
      "execution_count": null,
      "outputs": [
        {
          "output_type": "display_data",
          "data": {
            "image/png": "[encoded data removed]",
            "text/plain": [
              "<Figure size 432x288 with 1 Axes>"
            ]
          },
          "metadata": {
            "tags": [],
            "needs_background": "light"
          }
        }
      ]
    },
    {
      "cell_type": "markdown",
      "metadata": {
        "id": "gh_GPmaESP6Q"
      },
      "source": [
        "#Summary"
      ]
    },
    {
      "cell_type": "code",
      "metadata": {
        "colab": {
          "base_uri": "https://localhost:8080/"
        },
        "id": "6B3dRCc8SRhf",
        "outputId": "5622d586-ba40-42ef-fd25-5e40e4286192"
      },
      "source": [
        "import pandas as pd\n",
        "data = {'Data':  ['Heart Failure', 'Iris', 'Diabetes','Breast Cancer'],\n",
        "        'KNN':  [0.7224137931034482, 0.95,0.7357484620642516,0.9683897243107771],\n",
        "        'LMKNN':  [0.7060919540229885, 0.9583333333333333,0.7018626110731374, 0.9736528822055138],\n",
        "        }\n",
        "df = pd.DataFrame (data, columns = ['Data','KNN','LMKNN'])\n",
        "print(df)\n",
        "print('Rata-rata :',np.mean([0.7224137931034482, 0.95,0.7357484620642516,0.9683897243107771]), np.mean([0.7060919540229885, 0.9583333333333333,0.7018626110731374, 0.9736528822055138]) )"
      ],
      "execution_count": null,
      "outputs": [
        {
          "output_type": "stream",
          "text": [
            "            Data       KNN     LMKNN\n",
            "0  Heart Failure  0.722414  0.706092\n",
            "1           Iris  0.950000  0.958333\n",
            "2       Diabetes  0.735748  0.701863\n",
            "3  Breast Cancer  0.968390  0.973653\n",
            "Rata-rata : 0.8441379948696193 0.8349851951587434\n"
          ],
          "name": "stdout"
        }
      ]
    },
    {
      "cell_type": "code",
      "metadata": {
        "colab": {
          "base_uri": "https://localhost:8080/",
          "height": 513
        },
        "id": "cUjGli-ZTnF0",
        "outputId": "00837b78-714f-407d-eda2-8432c5d051dd"
      },
      "source": [
        "import matplotlib.pyplot as plt\n",
        "fig, axs = plt.subplots(nrows=2, ncols=2, figsize=(12,8))\n",
        "\n",
        "axs[0, 0].plot(range(2,15), result_KNN_HR)\n",
        "axs[0, 0].plot(range(2,15), result_LMKNN_HR, color=\"yellow\")\n",
        "axs[0, 0].set_title(\"Heart Failure\")\n",
        "\n",
        "axs[0, 1].plot(range(2,15), result_KNN_IR)\n",
        "axs[0, 1].plot(range(2,15), result_LMKNN_IR, color=\"yellow\")\n",
        "axs[0, 1].set_title(\"Iris\")\n",
        "\n",
        "axs[1, 0].plot(range(2,15), result_KNN_D)\n",
        "axs[1, 0].plot(range(2,15), result_LMKNN_D, color=\"yellow\")\n",
        "axs[1, 0].set_title(\"Diabetes\")\n",
        "\n",
        "axs[1, 1].plot(range(2,15), result_KNN_BC)\n",
        "axs[1, 1].plot(range(2,15), result_LMKNN_BC, color=\"yellow\")\n",
        "axs[1, 1].set_title(\"Breast Cancer\")\n",
        "\n",
        "for ax in axs.flat:\n",
        "    ax.set(xlabel='K', ylabel='Accuracy')\n"
      ],
      "execution_count": null,
      "outputs": [
        {
          "output_type": "display_data",
          "data": {
            "image/png": "[encoded data removed]",
            "text/plain": [
              "<Figure size 864x576 with 4 Axes>"
            ]
          },
          "metadata": {
            "tags": [],
            "needs_background": "light"
          }
        }
      ]
    }
  ]
}